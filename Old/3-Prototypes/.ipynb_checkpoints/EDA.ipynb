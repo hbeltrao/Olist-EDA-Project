{
 "cells": [
  {
   "cell_type": "code",
   "execution_count": null,
   "metadata": {},
   "outputs": [],
   "source": [
    "import pandas as pd\n",
    "import mysql.connector as mysql\n",
    "import seaborn as sns\n",
    "import matplotlib.pyplot as plt\n",
    "from credentials import login_config"
   ]
  },
  {
   "cell_type": "code",
   "execution_count": null,
   "metadata": {},
   "outputs": [],
   "source": [
    "# Code block to fetch the percentage of 5 star reviews per month and plot the trend line\n",
    "\n",
    "# Creating a connection to the MySQL Database\n",
    "connection = mysql.connect(**login_config)\n",
    "\n",
    "# Defining the period of orders by delivery date \n",
    "period = ('2016-01-01 00:00:00', '2018-12-31 23:59:59')\n",
    "\n",
    "# Loading the query to fetch 5 star reviews percentage per month and counting only orders that were sucessifully delivered\n",
    "with open(\"/home/hbeltrao/Hugo/Projects/Olist_EDA_Project/2-Queries/5star_review_percentage_per_month.sql\") as query:\n",
    "    five_star_review_per_month = pd.read_sql_query(query.read(), params=period, con=connection)\n"
   ]
  },
  {
   "cell_type": "code",
   "execution_count": null,
   "metadata": {},
   "outputs": [],
   "source": [
    "# Creating the plot to visualize the 5 star review trend\n",
    "sns.set_context('paper', font_scale=1.8)\n",
    "sns.catplot(data=five_star_review_per_month, x=\"Months\", y=\"percentage\", kind='point', aspect=4)\n",
    "plt.xlabel('Year-Month')\n",
    "plt.ylabel('% of 5 star reviews')\n",
    "plt.title(\"Percentage of 5 star reviews over the months\")\n",
    "plt.xticks(rotation=90)\n",
    "plt.show()"
   ]
  },
  {
   "cell_type": "code",
   "execution_count": null,
   "metadata": {},
   "outputs": [],
   "source": [
    "# Code block to fetch the purchase orders realized, excluding cancelled and unavailablew orders, divided by year and month\n",
    "\n",
    "# Creating a connection to the MySQL Database\n",
    "connection = mysql.connect(**login_config)\n",
    "\n",
    "# Loading the query\n",
    "with open(\"/home/hbeltrao/Hugo/Projects/Olist_EDA_Project/2-Queries/Purchases_per_month_and_year.sql\") as query:\n",
    "    purchases_per_year_month = pd.read_sql_query(query.read(), con=connection)\n",
    "\n",
    "purchases_per_year_month_melted = purchases_per_year_month.melt('Months', var_name='Year', value_name='Purchases')"
   ]
  },
  {
   "cell_type": "code",
   "execution_count": null,
   "metadata": {},
   "outputs": [],
   "source": [
    "# Creating the plot to visualize the purchases per month from each year\n",
    "sns.catplot(data=purchases_per_year_month_melted, x=\"Months\", y=\"Purchases\", hue=\"Year\", kind='point', aspect=4)\n",
    "plt.xlabel(\"Months\")\n",
    "plt.ylabel(\"Purchases\")\n",
    "plt.title(\"Purchases realized per month through the years\")\n",
    "plt.show()"
   ]
  },
  {
   "cell_type": "code",
   "execution_count": null,
   "metadata": {},
   "outputs": [],
   "source": [
    "# Creating the plot to visualize the purchases per month from each year\n",
    "sns.relplot(data=purchases_per_year_month_melted, kind='line', aspect=4)\n",
    "plt.xlabel(\"Months\")\n",
    "plt.ylabel(\"Purchases\")\n",
    "plt.title(\"Purchases realized per month through the years\")\n",
    "plt.show()"
   ]
  },
  {
   "cell_type": "code",
   "execution_count": null,
   "metadata": {},
   "outputs": [],
   "source": [
    "# Report information with order dispatching efficiency per month\n",
    "\n",
    "# Creating a connection to the MySQL Database\n",
    "connection = mysql.connect(**login_config)\n",
    "\n",
    "# Loading the query\n",
    "with open(\"/home/hbeltrao/Hugo/Projects/Olist_EDA_Project/2-Queries/delayed_shipments_by_year_month.sql\") as query:\n",
    "    order_delay_per_year_month = pd.read_sql_query(query.read(), con=connection)"
   ]
  },
  {
   "cell_type": "code",
   "execution_count": null,
   "metadata": {},
   "outputs": [],
   "source": [
    "# Plotting orders delayed per month and average delay in days\n",
    "sns.set_context('paper', font_scale=2.2)\n",
    "plt.figure(figsize=(30,10))\n",
    "plt.xlabel(\"Year-Month\")\n",
    "plt.ylabel(\"% of delayed orders\")\n",
    "plt.title(\"Orders Delayed per month\")\n",
    "plt.xticks(rotation=90)\n",
    "\n",
    "ax = sns.barplot(data=order_delay_per_year_month, x=\"year_months\", y=\"Delay_Percentage\", color='g')\n",
    "\n",
    "ax2 = ax.twinx()\n",
    "sns.lineplot(data=order_delay_per_year_month, x=\"year_months\", y=\"Average_Delay\", ax=ax2)\n",
    "\n",
    "plt.show()"
   ]
  }
 ],
 "metadata": {
  "kernelspec": {
   "display_name": "Python 3.10.4 ('data_env')",
   "language": "python",
   "name": "python3"
  },
  "language_info": {
   "codemirror_mode": {
    "name": "ipython",
    "version": 3
   },
   "file_extension": ".py",
   "mimetype": "text/x-python",
   "name": "python",
   "nbconvert_exporter": "python",
   "pygments_lexer": "ipython3",
   "version": "3.10.4"
  },
  "orig_nbformat": 4,
  "vscode": {
   "interpreter": {
    "hash": "1a84ca3284a92ce0e43368bc6a591c58fb3a73729c91f5de763dab80bc12c198"
   }
  }
 },
 "nbformat": 4,
 "nbformat_minor": 2
}
